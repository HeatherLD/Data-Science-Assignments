{
 "cells": [
  {
   "cell_type": "code",
   "execution_count": 1,
   "metadata": {},
   "outputs": [
    {
     "data": {
      "text/html": [
       "<div>\n",
       "<style scoped>\n",
       "    .dataframe tbody tr th:only-of-type {\n",
       "        vertical-align: middle;\n",
       "    }\n",
       "\n",
       "    .dataframe tbody tr th {\n",
       "        vertical-align: top;\n",
       "    }\n",
       "\n",
       "    .dataframe thead th {\n",
       "        text-align: right;\n",
       "    }\n",
       "</style>\n",
       "<table border=\"1\" class=\"dataframe\">\n",
       "  <thead>\n",
       "    <tr style=\"text-align: right;\">\n",
       "      <th></th>\n",
       "      <th>Open</th>\n",
       "      <th>High</th>\n",
       "      <th>Low</th>\n",
       "      <th>Close</th>\n",
       "      <th>Volume</th>\n",
       "      <th>Stock Trading</th>\n",
       "    </tr>\n",
       "    <tr>\n",
       "      <th>Date</th>\n",
       "      <th></th>\n",
       "      <th></th>\n",
       "      <th></th>\n",
       "      <th></th>\n",
       "      <th></th>\n",
       "      <th></th>\n",
       "    </tr>\n",
       "  </thead>\n",
       "  <tbody>\n",
       "    <tr>\n",
       "      <th>2016-12-30</th>\n",
       "      <td>42120</td>\n",
       "      <td>42330</td>\n",
       "      <td>41700</td>\n",
       "      <td>41830</td>\n",
       "      <td>610000</td>\n",
       "      <td>25628028000</td>\n",
       "    </tr>\n",
       "    <tr>\n",
       "      <th>2016-12-29</th>\n",
       "      <td>43000</td>\n",
       "      <td>43220</td>\n",
       "      <td>42540</td>\n",
       "      <td>42660</td>\n",
       "      <td>448400</td>\n",
       "      <td>19188227000</td>\n",
       "    </tr>\n",
       "    <tr>\n",
       "      <th>2016-12-28</th>\n",
       "      <td>43940</td>\n",
       "      <td>43970</td>\n",
       "      <td>43270</td>\n",
       "      <td>43270</td>\n",
       "      <td>339900</td>\n",
       "      <td>14780670000</td>\n",
       "    </tr>\n",
       "    <tr>\n",
       "      <th>2016-12-27</th>\n",
       "      <td>43140</td>\n",
       "      <td>43700</td>\n",
       "      <td>43140</td>\n",
       "      <td>43620</td>\n",
       "      <td>400100</td>\n",
       "      <td>17427993000</td>\n",
       "    </tr>\n",
       "    <tr>\n",
       "      <th>2016-12-26</th>\n",
       "      <td>43310</td>\n",
       "      <td>43660</td>\n",
       "      <td>43090</td>\n",
       "      <td>43340</td>\n",
       "      <td>358200</td>\n",
       "      <td>15547803000</td>\n",
       "    </tr>\n",
       "  </tbody>\n",
       "</table>\n",
       "</div>"
      ],
      "text/plain": [
       "             Open   High    Low  Close  Volume  Stock Trading\n",
       "Date                                                         \n",
       "2016-12-30  42120  42330  41700  41830  610000    25628028000\n",
       "2016-12-29  43000  43220  42540  42660  448400    19188227000\n",
       "2016-12-28  43940  43970  43270  43270  339900    14780670000\n",
       "2016-12-27  43140  43700  43140  43620  400100    17427993000\n",
       "2016-12-26  43310  43660  43090  43340  358200    15547803000"
      ]
     },
     "execution_count": 1,
     "metadata": {},
     "output_type": "execute_result"
    }
   ],
   "source": [
    "import pandas as pd\n",
    "import matplotlib.pyplot as plt\n",
    "import numpy as np\n",
    "import os\n",
    "\n",
    "df = pd.read_csv(\"uniqlo_stock_2012-2016.csv\",parse_dates=True, index_col='Date')\n",
    "df.head()"
   ]
  },
  {
   "cell_type": "code",
   "execution_count": 2,
   "metadata": {},
   "outputs": [],
   "source": [
    "import warnings\n",
    "warnings.filterwarnings('ignore')\n",
    "#useful to set equal to 'once'"
   ]
  },
  {
   "cell_type": "code",
   "execution_count": 3,
   "metadata": {},
   "outputs": [
    {
     "data": {
      "text/plain": [
       "[<matplotlib.lines.Line2D at 0x26d024b66d0>]"
      ]
     },
     "execution_count": 3,
     "metadata": {},
     "output_type": "execute_result"
    },
    {
     "data": {
      "image/png": "[encoded data removed]",
      "text/plain": [
       "<Figure size 432x288 with 1 Axes>"
      ]
     },
     "metadata": {
      "needs_background": "light"
     },
     "output_type": "display_data"
    }
   ],
   "source": [
    "plt.plot(df.index, df['Close'])\n",
    "#this data is not stationary because the ways that it changes are not the same"
   ]
  },
  {
   "cell_type": "code",
   "execution_count": 4,
   "metadata": {},
   "outputs": [
    {
     "data": {
      "text/html": [
       "<div>\n",
       "<style scoped>\n",
       "    .dataframe tbody tr th:only-of-type {\n",
       "        vertical-align: middle;\n",
       "    }\n",
       "\n",
       "    .dataframe tbody tr th {\n",
       "        vertical-align: top;\n",
       "    }\n",
       "\n",
       "    .dataframe thead th {\n",
       "        text-align: right;\n",
       "    }\n",
       "</style>\n",
       "<table border=\"1\" class=\"dataframe\">\n",
       "  <thead>\n",
       "    <tr style=\"text-align: right;\">\n",
       "      <th></th>\n",
       "      <th>Open</th>\n",
       "      <th>High</th>\n",
       "      <th>Low</th>\n",
       "      <th>Close</th>\n",
       "      <th>Volume</th>\n",
       "      <th>Stock Trading</th>\n",
       "    </tr>\n",
       "    <tr>\n",
       "      <th>Date</th>\n",
       "      <th></th>\n",
       "      <th></th>\n",
       "      <th></th>\n",
       "      <th></th>\n",
       "      <th></th>\n",
       "      <th></th>\n",
       "    </tr>\n",
       "  </thead>\n",
       "  <tbody>\n",
       "    <tr>\n",
       "      <th>2016-10-31</th>\n",
       "      <td>35690</td>\n",
       "      <td>36030</td>\n",
       "      <td>35450</td>\n",
       "      <td>35460</td>\n",
       "      <td>344400</td>\n",
       "      <td>12260234000</td>\n",
       "    </tr>\n",
       "    <tr>\n",
       "      <th>2016-10-28</th>\n",
       "      <td>36020</td>\n",
       "      <td>36450</td>\n",
       "      <td>35980</td>\n",
       "      <td>35980</td>\n",
       "      <td>454200</td>\n",
       "      <td>16400925000</td>\n",
       "    </tr>\n",
       "    <tr>\n",
       "      <th>2016-10-27</th>\n",
       "      <td>36250</td>\n",
       "      <td>36370</td>\n",
       "      <td>35600</td>\n",
       "      <td>35770</td>\n",
       "      <td>426500</td>\n",
       "      <td>15291775000</td>\n",
       "    </tr>\n",
       "    <tr>\n",
       "      <th>2016-10-26</th>\n",
       "      <td>36840</td>\n",
       "      <td>36850</td>\n",
       "      <td>36380</td>\n",
       "      <td>36450</td>\n",
       "      <td>353400</td>\n",
       "      <td>12904237000</td>\n",
       "    </tr>\n",
       "    <tr>\n",
       "      <th>2016-10-25</th>\n",
       "      <td>36500</td>\n",
       "      <td>36940</td>\n",
       "      <td>36450</td>\n",
       "      <td>36850</td>\n",
       "      <td>400800</td>\n",
       "      <td>14747028000</td>\n",
       "    </tr>\n",
       "    <tr>\n",
       "      <th>2016-10-24</th>\n",
       "      <td>36650</td>\n",
       "      <td>36660</td>\n",
       "      <td>36000</td>\n",
       "      <td>36300</td>\n",
       "      <td>365000</td>\n",
       "      <td>13238639000</td>\n",
       "    </tr>\n",
       "    <tr>\n",
       "      <th>2016-10-21</th>\n",
       "      <td>36350</td>\n",
       "      <td>36850</td>\n",
       "      <td>36180</td>\n",
       "      <td>36300</td>\n",
       "      <td>579900</td>\n",
       "      <td>21125073000</td>\n",
       "    </tr>\n",
       "    <tr>\n",
       "      <th>2016-10-20</th>\n",
       "      <td>34910</td>\n",
       "      <td>36330</td>\n",
       "      <td>34910</td>\n",
       "      <td>36330</td>\n",
       "      <td>751800</td>\n",
       "      <td>27080028000</td>\n",
       "    </tr>\n",
       "    <tr>\n",
       "      <th>2016-10-19</th>\n",
       "      <td>34900</td>\n",
       "      <td>35050</td>\n",
       "      <td>34600</td>\n",
       "      <td>35020</td>\n",
       "      <td>356500</td>\n",
       "      <td>12436404000</td>\n",
       "    </tr>\n",
       "    <tr>\n",
       "      <th>2016-10-18</th>\n",
       "      <td>34490</td>\n",
       "      <td>34900</td>\n",
       "      <td>34210</td>\n",
       "      <td>34900</td>\n",
       "      <td>477400</td>\n",
       "      <td>16572078000</td>\n",
       "    </tr>\n",
       "    <tr>\n",
       "      <th>2016-10-17</th>\n",
       "      <td>34710</td>\n",
       "      <td>35030</td>\n",
       "      <td>34180</td>\n",
       "      <td>34210</td>\n",
       "      <td>657500</td>\n",
       "      <td>22641069000</td>\n",
       "    </tr>\n",
       "    <tr>\n",
       "      <th>2016-10-14</th>\n",
       "      <td>33200</td>\n",
       "      <td>35090</td>\n",
       "      <td>33200</td>\n",
       "      <td>34800</td>\n",
       "      <td>1671000</td>\n",
       "      <td>56859361000</td>\n",
       "    </tr>\n",
       "    <tr>\n",
       "      <th>2016-10-13</th>\n",
       "      <td>34000</td>\n",
       "      <td>34290</td>\n",
       "      <td>33010</td>\n",
       "      <td>33150</td>\n",
       "      <td>556000</td>\n",
       "      <td>18658970000</td>\n",
       "    </tr>\n",
       "    <tr>\n",
       "      <th>2016-10-12</th>\n",
       "      <td>33550</td>\n",
       "      <td>34030</td>\n",
       "      <td>33380</td>\n",
       "      <td>33790</td>\n",
       "      <td>464500</td>\n",
       "      <td>15704798000</td>\n",
       "    </tr>\n",
       "    <tr>\n",
       "      <th>2016-10-11</th>\n",
       "      <td>33580</td>\n",
       "      <td>34040</td>\n",
       "      <td>33560</td>\n",
       "      <td>33920</td>\n",
       "      <td>529400</td>\n",
       "      <td>17932293000</td>\n",
       "    </tr>\n",
       "    <tr>\n",
       "      <th>2016-10-07</th>\n",
       "      <td>33600</td>\n",
       "      <td>33900</td>\n",
       "      <td>33400</td>\n",
       "      <td>33500</td>\n",
       "      <td>407300</td>\n",
       "      <td>13682994000</td>\n",
       "    </tr>\n",
       "    <tr>\n",
       "      <th>2016-10-06</th>\n",
       "      <td>34200</td>\n",
       "      <td>34460</td>\n",
       "      <td>34030</td>\n",
       "      <td>34040</td>\n",
       "      <td>454400</td>\n",
       "      <td>15542676000</td>\n",
       "    </tr>\n",
       "    <tr>\n",
       "      <th>2016-10-05</th>\n",
       "      <td>34150</td>\n",
       "      <td>34200</td>\n",
       "      <td>33600</td>\n",
       "      <td>33940</td>\n",
       "      <td>534400</td>\n",
       "      <td>18158415000</td>\n",
       "    </tr>\n",
       "    <tr>\n",
       "      <th>2016-10-04</th>\n",
       "      <td>33300</td>\n",
       "      <td>33950</td>\n",
       "      <td>33150</td>\n",
       "      <td>33490</td>\n",
       "      <td>688900</td>\n",
       "      <td>23118399000</td>\n",
       "    </tr>\n",
       "    <tr>\n",
       "      <th>2016-10-03</th>\n",
       "      <td>32800</td>\n",
       "      <td>32990</td>\n",
       "      <td>32580</td>\n",
       "      <td>32980</td>\n",
       "      <td>421000</td>\n",
       "      <td>13828096000</td>\n",
       "    </tr>\n",
       "  </tbody>\n",
       "</table>\n",
       "</div>"
      ],
      "text/plain": [
       "             Open   High    Low  Close   Volume  Stock Trading\n",
       "Date                                                          \n",
       "2016-10-31  35690  36030  35450  35460   344400    12260234000\n",
       "2016-10-28  36020  36450  35980  35980   454200    16400925000\n",
       "2016-10-27  36250  36370  35600  35770   426500    15291775000\n",
       "2016-10-26  36840  36850  36380  36450   353400    12904237000\n",
       "2016-10-25  36500  36940  36450  36850   400800    14747028000\n",
       "2016-10-24  36650  36660  36000  36300   365000    13238639000\n",
       "2016-10-21  36350  36850  36180  36300   579900    21125073000\n",
       "2016-10-20  34910  36330  34910  36330   751800    27080028000\n",
       "2016-10-19  34900  35050  34600  35020   356500    12436404000\n",
       "2016-10-18  34490  34900  34210  34900   477400    16572078000\n",
       "2016-10-17  34710  35030  34180  34210   657500    22641069000\n",
       "2016-10-14  33200  35090  33200  34800  1671000    56859361000\n",
       "2016-10-13  34000  34290  33010  33150   556000    18658970000\n",
       "2016-10-12  33550  34030  33380  33790   464500    15704798000\n",
       "2016-10-11  33580  34040  33560  33920   529400    17932293000\n",
       "2016-10-07  33600  33900  33400  33500   407300    13682994000\n",
       "2016-10-06  34200  34460  34030  34040   454400    15542676000\n",
       "2016-10-05  34150  34200  33600  33940   534400    18158415000\n",
       "2016-10-04  33300  33950  33150  33490   688900    23118399000\n",
       "2016-10-03  32800  32990  32580  32980   421000    13828096000"
      ]
     },
     "execution_count": 4,
     "metadata": {},
     "output_type": "execute_result"
    }
   ],
   "source": [
    "df.loc['2016-10']"
   ]
  },
  {
   "cell_type": "code",
   "execution_count": 5,
   "metadata": {},
   "outputs": [
    {
     "data": {
      "text/html": [
       "<div>\n",
       "<style scoped>\n",
       "    .dataframe tbody tr th:only-of-type {\n",
       "        vertical-align: middle;\n",
       "    }\n",
       "\n",
       "    .dataframe tbody tr th {\n",
       "        vertical-align: top;\n",
       "    }\n",
       "\n",
       "    .dataframe thead th {\n",
       "        text-align: right;\n",
       "    }\n",
       "</style>\n",
       "<table border=\"1\" class=\"dataframe\">\n",
       "  <thead>\n",
       "    <tr style=\"text-align: right;\">\n",
       "      <th></th>\n",
       "      <th>Open</th>\n",
       "      <th>High</th>\n",
       "      <th>Low</th>\n",
       "      <th>Close</th>\n",
       "      <th>Volume</th>\n",
       "      <th>Stock Trading</th>\n",
       "    </tr>\n",
       "    <tr>\n",
       "      <th>Date</th>\n",
       "      <th></th>\n",
       "      <th></th>\n",
       "      <th></th>\n",
       "      <th></th>\n",
       "      <th></th>\n",
       "      <th></th>\n",
       "    </tr>\n",
       "  </thead>\n",
       "  <tbody>\n",
       "    <tr>\n",
       "      <th>2012-01-08</th>\n",
       "      <td>13920.0</td>\n",
       "      <td>13973.333333</td>\n",
       "      <td>13696.666667</td>\n",
       "      <td>13790.0</td>\n",
       "      <td>6.120333e+05</td>\n",
       "      <td>8.462075e+09</td>\n",
       "    </tr>\n",
       "    <tr>\n",
       "      <th>2012-01-15</th>\n",
       "      <td>14377.5</td>\n",
       "      <td>14630.000000</td>\n",
       "      <td>14230.000000</td>\n",
       "      <td>14567.5</td>\n",
       "      <td>1.019975e+06</td>\n",
       "      <td>1.480215e+10</td>\n",
       "    </tr>\n",
       "    <tr>\n",
       "      <th>2012-01-22</th>\n",
       "      <td>14800.0</td>\n",
       "      <td>14908.000000</td>\n",
       "      <td>14702.000000</td>\n",
       "      <td>14794.0</td>\n",
       "      <td>5.475800e+05</td>\n",
       "      <td>8.120263e+09</td>\n",
       "    </tr>\n",
       "    <tr>\n",
       "      <th>2012-01-29</th>\n",
       "      <td>14832.0</td>\n",
       "      <td>15010.000000</td>\n",
       "      <td>14772.000000</td>\n",
       "      <td>14948.0</td>\n",
       "      <td>5.902400e+05</td>\n",
       "      <td>8.795512e+09</td>\n",
       "    </tr>\n",
       "    <tr>\n",
       "      <th>2012-02-05</th>\n",
       "      <td>15212.0</td>\n",
       "      <td>15330.000000</td>\n",
       "      <td>15090.000000</td>\n",
       "      <td>15256.0</td>\n",
       "      <td>5.479400e+05</td>\n",
       "      <td>8.341651e+09</td>\n",
       "    </tr>\n",
       "    <tr>\n",
       "      <th>...</th>\n",
       "      <td>...</td>\n",
       "      <td>...</td>\n",
       "      <td>...</td>\n",
       "      <td>...</td>\n",
       "      <td>...</td>\n",
       "      <td>...</td>\n",
       "    </tr>\n",
       "    <tr>\n",
       "      <th>2016-12-04</th>\n",
       "      <td>40556.0</td>\n",
       "      <td>40842.000000</td>\n",
       "      <td>40156.000000</td>\n",
       "      <td>40430.0</td>\n",
       "      <td>6.790200e+05</td>\n",
       "      <td>2.744038e+10</td>\n",
       "    </tr>\n",
       "    <tr>\n",
       "      <th>2016-12-11</th>\n",
       "      <td>40818.0</td>\n",
       "      <td>41306.000000</td>\n",
       "      <td>40390.000000</td>\n",
       "      <td>40894.0</td>\n",
       "      <td>8.781800e+05</td>\n",
       "      <td>3.621516e+10</td>\n",
       "    </tr>\n",
       "    <tr>\n",
       "      <th>2016-12-18</th>\n",
       "      <td>43434.0</td>\n",
       "      <td>43634.000000</td>\n",
       "      <td>42692.000000</td>\n",
       "      <td>43112.0</td>\n",
       "      <td>5.856000e+05</td>\n",
       "      <td>2.526562e+10</td>\n",
       "    </tr>\n",
       "    <tr>\n",
       "      <th>2016-12-25</th>\n",
       "      <td>43315.0</td>\n",
       "      <td>43747.500000</td>\n",
       "      <td>43100.000000</td>\n",
       "      <td>43557.5</td>\n",
       "      <td>4.746500e+05</td>\n",
       "      <td>2.065386e+10</td>\n",
       "    </tr>\n",
       "    <tr>\n",
       "      <th>2017-01-01</th>\n",
       "      <td>43102.0</td>\n",
       "      <td>43376.000000</td>\n",
       "      <td>42748.000000</td>\n",
       "      <td>42944.0</td>\n",
       "      <td>4.313200e+05</td>\n",
       "      <td>1.851454e+10</td>\n",
       "    </tr>\n",
       "  </tbody>\n",
       "</table>\n",
       "<p>261 rows × 6 columns</p>\n",
       "</div>"
      ],
      "text/plain": [
       "               Open          High           Low    Close        Volume  \\\n",
       "Date                                                                     \n",
       "2012-01-08  13920.0  13973.333333  13696.666667  13790.0  6.120333e+05   \n",
       "2012-01-15  14377.5  14630.000000  14230.000000  14567.5  1.019975e+06   \n",
       "2012-01-22  14800.0  14908.000000  14702.000000  14794.0  5.475800e+05   \n",
       "2012-01-29  14832.0  15010.000000  14772.000000  14948.0  5.902400e+05   \n",
       "2012-02-05  15212.0  15330.000000  15090.000000  15256.0  5.479400e+05   \n",
       "...             ...           ...           ...      ...           ...   \n",
       "2016-12-04  40556.0  40842.000000  40156.000000  40430.0  6.790200e+05   \n",
       "2016-12-11  40818.0  41306.000000  40390.000000  40894.0  8.781800e+05   \n",
       "2016-12-18  43434.0  43634.000000  42692.000000  43112.0  5.856000e+05   \n",
       "2016-12-25  43315.0  43747.500000  43100.000000  43557.5  4.746500e+05   \n",
       "2017-01-01  43102.0  43376.000000  42748.000000  42944.0  4.313200e+05   \n",
       "\n",
       "            Stock Trading  \n",
       "Date                       \n",
       "2012-01-08   8.462075e+09  \n",
       "2012-01-15   1.480215e+10  \n",
       "2012-01-22   8.120263e+09  \n",
       "2012-01-29   8.795512e+09  \n",
       "2012-02-05   8.341651e+09  \n",
       "...                   ...  \n",
       "2016-12-04   2.744038e+10  \n",
       "2016-12-11   3.621516e+10  \n",
       "2016-12-18   2.526562e+10  \n",
       "2016-12-25   2.065386e+10  \n",
       "2017-01-01   1.851454e+10  \n",
       "\n",
       "[261 rows x 6 columns]"
      ]
     },
     "execution_count": 5,
     "metadata": {},
     "output_type": "execute_result"
    }
   ],
   "source": [
    "#find means for each value for each week\n",
    "df.resample('W').mean()"
   ]
  },
  {
   "cell_type": "code",
   "execution_count": 6,
   "metadata": {},
   "outputs": [
    {
     "data": {
      "text/plain": [
       "<AxesSubplot:xlabel='Date'>"
      ]
     },
     "execution_count": 6,
     "metadata": {},
     "output_type": "execute_result"
    },
    {
     "data": {
      "image/png": "[encoded data removed]",
      "text/plain": [
       "<Figure size 432x288 with 1 Axes>"
      ]
     },
     "metadata": {
      "needs_background": "light"
     },
     "output_type": "display_data"
    }
   ],
   "source": [
    "#to transform a stationary process\n",
    "df['Return']=df['Close'].pct_change()\n",
    "df['Return'].plot()"
   ]
  },
  {
   "cell_type": "markdown",
   "metadata": {},
   "source": [
    "# Autocorrelation and Partial Autocorrelation\n",
    "\n",
    "autocorrelation - how well a time series correlates with a lagged copy of itself at a particular lag interval\n",
    "\n",
    "ACF = used to estimate MA order - number of lags that exceed the confidence interval\n",
    "\n",
    "PACF = used to estimate AR order - number of lags that exceed the confidence interval"
   ]
  },
  {
   "cell_type": "code",
   "execution_count": 14,
   "metadata": {},
   "outputs": [],
   "source": [
    "df = df.dropna()"
   ]
  },
  {
   "cell_type": "code",
   "execution_count": 15,
   "metadata": {},
   "outputs": [
    {
     "data": {
      "image/png": "[encoded data removed]",
      "text/plain": [
       "<Figure size 432x288 with 1 Axes>"
      ]
     },
     "execution_count": 15,
     "metadata": {},
     "output_type": "execute_result"
    },
    {
     "data": {
      "image/png": "[encoded data removed]",
      "text/plain": [
       "<Figure size 432x288 with 1 Axes>"
      ]
     },
     "metadata": {
      "needs_background": "light"
     },
     "output_type": "display_data"
    }
   ],
   "source": [
    "from statsmodels.graphics.tsaplots import plot_acf, plot_pacf\n",
    "plot_acf(df[['Return']], lags = 10, missing='drop')"
   ]
  },
  {
   "cell_type": "code",
   "execution_count": 18,
   "metadata": {},
   "outputs": [
    {
     "data": {
      "image/png": "[encoded data removed]",
      "text/plain": [
       "<Figure size 432x288 with 1 Axes>"
      ]
     },
     "execution_count": 18,
     "metadata": {},
     "output_type": "execute_result"
    },
    {
     "data": {
      "image/png": "[encoded data removed]",
      "text/plain": [
       "<Figure size 432x288 with 1 Axes>"
      ]
     },
     "metadata": {
      "needs_background": "light"
     },
     "output_type": "display_data"
    }
   ],
   "source": [
    "plot_pacf(df[['Return']], zero = False, lags = 10)"
   ]
  },
  {
   "cell_type": "markdown",
   "metadata": {},
   "source": [
    " # ARMA\n",
    " \n",
    "AR is helping you account for past values whereas the MA is helping you account for past errors. \n",
    "\n",
    "AR (autoregression) - past values are used to predict the future ones\n",
    "\n",
    "MA (Moving average) - past and present errors are used to predict future values - impacts of a random short-term fluctuations is decreased "
   ]
  },
  {
   "cell_type": "code",
   "execution_count": 20,
   "metadata": {},
   "outputs": [
    {
     "name": "stderr",
     "output_type": "stream",
     "text": [
      "C:\\ProgramData\\Anaconda3\\lib\\site-packages\\statsmodels\\tsa\\base\\tsa_model.py:216: ValueWarning: A date index has been provided, but it has no associated frequency information and so will be ignored when e.g. forecasting.\n",
      "  warnings.warn('A date index has been provided, but it has no'\n",
      "C:\\ProgramData\\Anaconda3\\lib\\site-packages\\statsmodels\\tsa\\base\\tsa_model.py:220: ValueWarning: A date index has been provided, but it is not monotonic and so will be ignored when e.g. forecasting.\n",
      "  warnings.warn('A date index has been provided, but it is not'\n"
     ]
    }
   ],
   "source": [
    "from statsmodels.tsa.arima_model import ARMA\n",
    "\n",
    "#first value for order indicates AR lags\n",
    "#second value for order indicated MA lags\n",
    "\n",
    "model = ARMA(df['Return'],order=(1,1))"
   ]
  },
  {
   "cell_type": "code",
   "execution_count": 21,
   "metadata": {},
   "outputs": [],
   "source": [
    "# fit the model to the data\n",
    "results = model.fit()"
   ]
  },
  {
   "cell_type": "code",
   "execution_count": 24,
   "metadata": {},
   "outputs": [
    {
     "data": {
      "text/html": [
       "<div>\n",
       "<style scoped>\n",
       "    .dataframe tbody tr th:only-of-type {\n",
       "        vertical-align: middle;\n",
       "    }\n",
       "\n",
       "    .dataframe tbody tr th {\n",
       "        vertical-align: top;\n",
       "    }\n",
       "\n",
       "    .dataframe thead th {\n",
       "        text-align: right;\n",
       "    }\n",
       "</style>\n",
       "<table border=\"1\" class=\"dataframe\">\n",
       "  <thead>\n",
       "    <tr style=\"text-align: right;\">\n",
       "      <th></th>\n",
       "      <th>0</th>\n",
       "    </tr>\n",
       "  </thead>\n",
       "  <tbody>\n",
       "    <tr>\n",
       "      <th>0</th>\n",
       "      <td>-0.000136</td>\n",
       "    </tr>\n",
       "    <tr>\n",
       "      <th>1</th>\n",
       "      <td>-0.000770</td>\n",
       "    </tr>\n",
       "    <tr>\n",
       "      <th>2</th>\n",
       "      <td>-0.000577</td>\n",
       "    </tr>\n",
       "    <tr>\n",
       "      <th>3</th>\n",
       "      <td>-0.000636</td>\n",
       "    </tr>\n",
       "    <tr>\n",
       "      <th>4</th>\n",
       "      <td>-0.000618</td>\n",
       "    </tr>\n",
       "  </tbody>\n",
       "</table>\n",
       "</div>"
      ],
      "text/plain": [
       "          0\n",
       "0 -0.000136\n",
       "1 -0.000770\n",
       "2 -0.000577\n",
       "3 -0.000636\n",
       "4 -0.000618"
      ]
     },
     "execution_count": 24,
     "metadata": {},
     "output_type": "execute_result"
    }
   ],
   "source": [
    "#plot the forecasted return for the next 10 days\n",
    "results_df = pd.DataFrame(results.forecast(steps=10)[0])\n",
    "results_df.head()"
   ]
  },
  {
   "cell_type": "code",
   "execution_count": 25,
   "metadata": {},
   "outputs": [
    {
     "data": {
      "text/plain": [
       "<AxesSubplot:title={'center':'Stock Return 10 day Forecast'}>"
      ]
     },
     "execution_count": 25,
     "metadata": {},
     "output_type": "execute_result"
    },
    {
     "data": {
      "image/png": "[encoded data removed]",
      "text/plain": [
       "<Figure size 432x288 with 1 Axes>"
      ]
     },
     "metadata": {
      "needs_background": "light"
     },
     "output_type": "display_data"
    }
   ],
   "source": [
    "results_df.plot(title = 'Stock Return 10 day Forecast')"
   ]
  },
  {
   "cell_type": "markdown",
   "metadata": {},
   "source": [
    "p-value (probability value) - how likely it is that your data would have occurred by random chance\n",
    "\n",
    "Reward models for fitting data accurately and punish them for various other information about the model\n",
    "\n",
    "AIC = Akaike Information Criterion = lower the value is, the more accurate in general. Used to measure goodness of fit.\n",
    "\n",
    "BIC = Bayesian Information Criterion = penalizes models for having a large number of parameters"
   ]
  },
  {
   "cell_type": "code",
   "execution_count": 27,
   "metadata": {},
   "outputs": [
    {
     "data": {
      "text/html": [
       "<table class=\"simpletable\">\n",
       "<caption>ARMA Model Results</caption>\n",
       "<tr>\n",
       "  <th>Dep. Variable:</th>      <td>Return</td>      <th>  No. Observations:  </th>   <td>1225</td>   \n",
       "</tr>\n",
       "<tr>\n",
       "  <th>Model:</th>            <td>ARMA(1, 1)</td>    <th>  Log Likelihood     </th> <td>2833.110</td> \n",
       "</tr>\n",
       "<tr>\n",
       "  <th>Method:</th>             <td>css-mle</td>     <th>  S.D. of innovations</th>   <td>0.024</td>  \n",
       "</tr>\n",
       "<tr>\n",
       "  <th>Date:</th>          <td>Wed, 01 Dec 2021</td> <th>  AIC                </th> <td>-5658.220</td>\n",
       "</tr>\n",
       "<tr>\n",
       "  <th>Time:</th>              <td>19:14:13</td>     <th>  BIC                </th> <td>-5637.777</td>\n",
       "</tr>\n",
       "<tr>\n",
       "  <th>Sample:</th>                <td>0</td>        <th>  HQIC               </th> <td>-5650.527</td>\n",
       "</tr>\n",
       "<tr>\n",
       "  <th></th>                       <td> </td>        <th>                     </th>     <td> </td>    \n",
       "</tr>\n",
       "</table>\n",
       "<table class=\"simpletable\">\n",
       "<tr>\n",
       "        <td></td>          <th>coef</th>     <th>std err</th>      <th>z</th>      <th>P>|z|</th>  <th>[0.025</th>    <th>0.975]</th>  \n",
       "</tr>\n",
       "<tr>\n",
       "  <th>const</th>        <td>   -0.0006</td> <td>    0.001</td> <td>   -0.967</td> <td> 0.333</td> <td>   -0.002</td> <td>    0.001</td>\n",
       "</tr>\n",
       "<tr>\n",
       "  <th>ar.L1.Return</th> <td>   -0.3045</td> <td>    0.204</td> <td>   -1.494</td> <td> 0.135</td> <td>   -0.704</td> <td>    0.095</td>\n",
       "</tr>\n",
       "<tr>\n",
       "  <th>ma.L1.Return</th> <td>    0.2263</td> <td>    0.207</td> <td>    1.092</td> <td> 0.275</td> <td>   -0.180</td> <td>    0.633</td>\n",
       "</tr>\n",
       "</table>\n",
       "<table class=\"simpletable\">\n",
       "<caption>Roots</caption>\n",
       "<tr>\n",
       "    <td></td>   <th>            Real</th>  <th>         Imaginary</th> <th>         Modulus</th>  <th>        Frequency</th>\n",
       "</tr>\n",
       "<tr>\n",
       "  <th>AR.1</th> <td>          -3.2839</td> <td>          +0.0000j</td> <td>           3.2839</td> <td>           0.5000</td>\n",
       "</tr>\n",
       "<tr>\n",
       "  <th>MA.1</th> <td>          -4.4191</td> <td>          +0.0000j</td> <td>           4.4191</td> <td>           0.5000</td>\n",
       "</tr>\n",
       "</table>"
      ],
      "text/plain": [
       "<class 'statsmodels.iolib.summary.Summary'>\n",
       "\"\"\"\n",
       "                              ARMA Model Results                              \n",
       "==============================================================================\n",
       "Dep. Variable:                 Return   No. Observations:                 1225\n",
       "Model:                     ARMA(1, 1)   Log Likelihood                2833.110\n",
       "Method:                       css-mle   S.D. of innovations              0.024\n",
       "Date:                Wed, 01 Dec 2021   AIC                          -5658.220\n",
       "Time:                        19:14:13   BIC                          -5637.777\n",
       "Sample:                             0   HQIC                         -5650.527\n",
       "                                                                              \n",
       "================================================================================\n",
       "                   coef    std err          z      P>|z|      [0.025      0.975]\n",
       "--------------------------------------------------------------------------------\n",
       "const           -0.0006      0.001     -0.967      0.333      -0.002       0.001\n",
       "ar.L1.Return    -0.3045      0.204     -1.494      0.135      -0.704       0.095\n",
       "ma.L1.Return     0.2263      0.207      1.092      0.275      -0.180       0.633\n",
       "                                    Roots                                    \n",
       "=============================================================================\n",
       "                  Real          Imaginary           Modulus         Frequency\n",
       "-----------------------------------------------------------------------------\n",
       "AR.1           -3.2839           +0.0000j            3.2839            0.5000\n",
       "MA.1           -4.4191           +0.0000j            4.4191            0.5000\n",
       "-----------------------------------------------------------------------------\n",
       "\"\"\""
      ]
     },
     "execution_count": 27,
     "metadata": {},
     "output_type": "execute_result"
    }
   ],
   "source": [
    "#summarize model performance metrics\n",
    "results.summary()"
   ]
  },
  {
   "cell_type": "code",
   "execution_count": 31,
   "metadata": {},
   "outputs": [
    {
     "name": "stderr",
     "output_type": "stream",
     "text": [
      "C:\\ProgramData\\Anaconda3\\lib\\site-packages\\statsmodels\\tsa\\base\\tsa_model.py:216: ValueWarning: A date index has been provided, but it has no associated frequency information and so will be ignored when e.g. forecasting.\n",
      "  warnings.warn('A date index has been provided, but it has no'\n",
      "C:\\ProgramData\\Anaconda3\\lib\\site-packages\\statsmodels\\tsa\\base\\tsa_model.py:220: ValueWarning: A date index has been provided, but it is not monotonic and so will be ignored when e.g. forecasting.\n",
      "  warnings.warn('A date index has been provided, but it is not'\n",
      "C:\\ProgramData\\Anaconda3\\lib\\site-packages\\statsmodels\\tsa\\base\\tsa_model.py:216: ValueWarning: A date index has been provided, but it has no associated frequency information and so will be ignored when e.g. forecasting.\n",
      "  warnings.warn('A date index has been provided, but it has no'\n",
      "C:\\ProgramData\\Anaconda3\\lib\\site-packages\\statsmodels\\tsa\\base\\tsa_model.py:220: ValueWarning: A date index has been provided, but it is not monotonic and so will be ignored when e.g. forecasting.\n",
      "  warnings.warn('A date index has been provided, but it is not'\n"
     ]
    }
   ],
   "source": [
    "from statsmodels.tsa.arima_model import ARIMA\n",
    "model = ARIMA(df['Return'],order=(1,1,2))\n",
    "\n",
    "#an ARMA(1,1) = ARIMA(1,0,1)"
   ]
  },
  {
   "cell_type": "code",
   "execution_count": 32,
   "metadata": {},
   "outputs": [
    {
     "data": {
      "text/html": [
       "<table class=\"simpletable\">\n",
       "<caption>ARIMA Model Results</caption>\n",
       "<tr>\n",
       "  <th>Dep. Variable:</th>     <td>D.Return</td>     <th>  No. Observations:  </th>   <td>1224</td>   \n",
       "</tr>\n",
       "<tr>\n",
       "  <th>Model:</th>          <td>ARIMA(1, 1, 2)</td>  <th>  Log Likelihood     </th> <td>2826.721</td> \n",
       "</tr>\n",
       "<tr>\n",
       "  <th>Method:</th>             <td>css-mle</td>     <th>  S.D. of innovations</th>   <td>0.024</td>  \n",
       "</tr>\n",
       "<tr>\n",
       "  <th>Date:</th>          <td>Wed, 01 Dec 2021</td> <th>  AIC                </th> <td>-5643.442</td>\n",
       "</tr>\n",
       "<tr>\n",
       "  <th>Time:</th>              <td>19:24:24</td>     <th>  BIC                </th> <td>-5617.892</td>\n",
       "</tr>\n",
       "<tr>\n",
       "  <th>Sample:</th>                <td>1</td>        <th>  HQIC               </th> <td>-5633.827</td>\n",
       "</tr>\n",
       "<tr>\n",
       "  <th></th>                       <td> </td>        <th>                     </th>     <td> </td>    \n",
       "</tr>\n",
       "</table>\n",
       "<table class=\"simpletable\">\n",
       "<tr>\n",
       "         <td></td>           <th>coef</th>     <th>std err</th>      <th>z</th>      <th>P>|z|</th>  <th>[0.025</th>    <th>0.975]</th>  \n",
       "</tr>\n",
       "<tr>\n",
       "  <th>const</th>          <td> -2.11e-06</td> <td>      nan</td> <td>      nan</td> <td>   nan</td> <td>      nan</td> <td>      nan</td>\n",
       "</tr>\n",
       "<tr>\n",
       "  <th>ar.L1.D.Return</th> <td>   -0.4506</td> <td>    0.131</td> <td>   -3.433</td> <td> 0.001</td> <td>   -0.708</td> <td>   -0.193</td>\n",
       "</tr>\n",
       "<tr>\n",
       "  <th>ma.L1.D.Return</th> <td>   -0.6186</td> <td>    0.117</td> <td>   -5.281</td> <td> 0.000</td> <td>   -0.848</td> <td>   -0.389</td>\n",
       "</tr>\n",
       "<tr>\n",
       "  <th>ma.L2.D.Return</th> <td>   -0.3774</td> <td>    0.151</td> <td>   -2.495</td> <td> 0.013</td> <td>   -0.674</td> <td>   -0.081</td>\n",
       "</tr>\n",
       "</table>\n",
       "<table class=\"simpletable\">\n",
       "<caption>Roots</caption>\n",
       "<tr>\n",
       "    <td></td>   <th>            Real</th>  <th>         Imaginary</th> <th>         Modulus</th>  <th>        Frequency</th>\n",
       "</tr>\n",
       "<tr>\n",
       "  <th>AR.1</th> <td>          -2.2192</td> <td>          +0.0000j</td> <td>           2.2192</td> <td>           0.5000</td>\n",
       "</tr>\n",
       "<tr>\n",
       "  <th>MA.1</th> <td>           1.0029</td> <td>          +0.0000j</td> <td>           1.0029</td> <td>           0.0000</td>\n",
       "</tr>\n",
       "<tr>\n",
       "  <th>MA.2</th> <td>          -2.6422</td> <td>          +0.0000j</td> <td>           2.6422</td> <td>           0.5000</td>\n",
       "</tr>\n",
       "</table>"
      ],
      "text/plain": [
       "<class 'statsmodels.iolib.summary.Summary'>\n",
       "\"\"\"\n",
       "                             ARIMA Model Results                              \n",
       "==============================================================================\n",
       "Dep. Variable:               D.Return   No. Observations:                 1224\n",
       "Model:                 ARIMA(1, 1, 2)   Log Likelihood                2826.721\n",
       "Method:                       css-mle   S.D. of innovations              0.024\n",
       "Date:                Wed, 01 Dec 2021   AIC                          -5643.442\n",
       "Time:                        19:24:24   BIC                          -5617.892\n",
       "Sample:                             1   HQIC                         -5633.827\n",
       "                                                                              \n",
       "==================================================================================\n",
       "                     coef    std err          z      P>|z|      [0.025      0.975]\n",
       "----------------------------------------------------------------------------------\n",
       "const           -2.11e-06        nan        nan        nan         nan         nan\n",
       "ar.L1.D.Return    -0.4506      0.131     -3.433      0.001      -0.708      -0.193\n",
       "ma.L1.D.Return    -0.6186      0.117     -5.281      0.000      -0.848      -0.389\n",
       "ma.L2.D.Return    -0.3774      0.151     -2.495      0.013      -0.674      -0.081\n",
       "                                    Roots                                    \n",
       "=============================================================================\n",
       "                  Real          Imaginary           Modulus         Frequency\n",
       "-----------------------------------------------------------------------------\n",
       "AR.1           -2.2192           +0.0000j            2.2192            0.5000\n",
       "MA.1            1.0029           +0.0000j            1.0029            0.0000\n",
       "MA.2           -2.6422           +0.0000j            2.6422            0.5000\n",
       "-----------------------------------------------------------------------------\n",
       "\"\"\""
      ]
     },
     "execution_count": 32,
     "metadata": {},
     "output_type": "execute_result"
    }
   ],
   "source": [
    "results = model.fit()\n",
    "results.summary()"
   ]
  },
  {
   "cell_type": "code",
   "execution_count": 33,
   "metadata": {},
   "outputs": [
    {
     "data": {
      "text/html": [
       "<div>\n",
       "<style scoped>\n",
       "    .dataframe tbody tr th:only-of-type {\n",
       "        vertical-align: middle;\n",
       "    }\n",
       "\n",
       "    .dataframe tbody tr th {\n",
       "        vertical-align: top;\n",
       "    }\n",
       "\n",
       "    .dataframe thead th {\n",
       "        text-align: right;\n",
       "    }\n",
       "</style>\n",
       "<table border=\"1\" class=\"dataframe\">\n",
       "  <thead>\n",
       "    <tr style=\"text-align: right;\">\n",
       "      <th></th>\n",
       "      <th>0</th>\n",
       "    </tr>\n",
       "  </thead>\n",
       "  <tbody>\n",
       "    <tr>\n",
       "      <th>0</th>\n",
       "      <td>-0.001555</td>\n",
       "    </tr>\n",
       "    <tr>\n",
       "      <th>1</th>\n",
       "      <td>-0.002320</td>\n",
       "    </tr>\n",
       "    <tr>\n",
       "      <th>2</th>\n",
       "      <td>-0.001979</td>\n",
       "    </tr>\n",
       "    <tr>\n",
       "      <th>3</th>\n",
       "      <td>-0.002135</td>\n",
       "    </tr>\n",
       "    <tr>\n",
       "      <th>4</th>\n",
       "      <td>-0.002068</td>\n",
       "    </tr>\n",
       "  </tbody>\n",
       "</table>\n",
       "</div>"
      ],
      "text/plain": [
       "          0\n",
       "0 -0.001555\n",
       "1 -0.002320\n",
       "2 -0.001979\n",
       "3 -0.002135\n",
       "4 -0.002068"
      ]
     },
     "execution_count": 33,
     "metadata": {},
     "output_type": "execute_result"
    }
   ],
   "source": [
    "#plot the forecasted return for the next 10 days\n",
    "results_df = pd.DataFrame(results.forecast(steps=10)[0])\n",
    "results_df.head()"
   ]
  },
  {
   "cell_type": "code",
   "execution_count": 34,
   "metadata": {},
   "outputs": [
    {
     "data": {
      "text/plain": [
       "<AxesSubplot:title={'center':'Stock Return 10 day Forecast'}>"
      ]
     },
     "execution_count": 34,
     "metadata": {},
     "output_type": "execute_result"
    },
    {
     "data": {
      "image/png": "[encoded data removed]",
      "text/plain": [
       "<Figure size 432x288 with 1 Axes>"
      ]
     },
     "metadata": {
      "needs_background": "light"
     },
     "output_type": "display_data"
    }
   ],
   "source": [
    "results_df.plot(title = 'Stock Return 10 day Forecast')"
   ]
  },
  {
   "cell_type": "markdown",
   "metadata": {},
   "source": [
    "# Intro to Fourier Analysis"
   ]
  },
  {
   "cell_type": "code",
   "execution_count": 36,
   "metadata": {},
   "outputs": [
    {
     "data": {
      "image/png": "[encoded data removed]",
      "text/plain": [
       "<Figure size 432x288 with 1 Axes>"
      ]
     },
     "metadata": {
      "needs_background": "light"
     },
     "output_type": "display_data"
    }
   ],
   "source": [
    "from scipy import signal\n",
    "\n",
    "x = np.arange(1,100,1)\n",
    "y = np.sin(x/3)\n",
    "plt.plot(x,y)\n",
    "plt.xlabel('Time')\n",
    "plt.ylabel('Intensity')\n",
    "plt.show()"
   ]
  },
  {
   "cell_type": "code",
   "execution_count": 41,
   "metadata": {},
   "outputs": [
    {
     "data": {
      "image/png": "[encoded data removed]",
      "text/plain": [
       "<Figure size 432x288 with 1 Axes>"
      ]
     },
     "metadata": {
      "needs_background": "light"
     },
     "output_type": "display_data"
    }
   ],
   "source": [
    "#power spectral density\n",
    "psd = np.abs(np.fft.rfft(y))\n",
    "freqs = np.fft.rfftfreq(len(y))\n",
    "plt.plot(freqs,psd)\n",
    "#amplitude\n",
    "plt.axvline(1/(6*np.pi),c='y')\n",
    "plt.xlabel('Frequency')\n",
    "plt.ylabel('Intensity')\n",
    "plt.show()"
   ]
  },
  {
   "cell_type": "code",
   "execution_count": null,
   "metadata": {},
   "outputs": [],
   "source": []
  }
 ],
 "metadata": {
  "kernelspec": {
   "display_name": "Python 3",
   "language": "python",
   "name": "python3"
  },
  "language_info": {
   "codemirror_mode": {
    "name": "ipython",
    "version": 3
   },
   "file_extension": ".py",
   "mimetype": "text/x-python",
   "name": "python",
   "nbconvert_exporter": "python",
   "pygments_lexer": "ipython3",
   "version": "3.8.3"
  }
 },
 "nbformat": 4,
 "nbformat_minor": 4
}
